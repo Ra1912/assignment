{
 "cells": [
  {
   "cell_type": "markdown",
   "id": "c94f13c1-21ed-440b-b862-1e1e79a09872",
   "metadata": {},
   "source": [
    "# Data Science Tools and Ecosystem "
   ]
  },
  {
   "cell_type": "markdown",
   "id": "30e06b5a-2043-43f6-9594-8c92e1c0e632",
   "metadata": {},
   "source": [
    "In this notebook, Data Science Tools and Ecosystem are summarized."
   ]
  },
  {
   "cell_type": "markdown",
   "id": "779d0152-bc15-43ec-85ec-1d6924da7db3",
   "metadata": {},
   "source": [
    "In this course we are able to create a Jupyter Notebook and get in hands with RStudio Code and various Environment like Anaconda and GitHub Repository.  \n",
    "**Objective:**\n",
    "- MATLAB\n",
    "- SQL\n",
    "- R\n",
    "- Python\n"
   ]
  },
  {
   "cell_type": "markdown",
   "id": "1775e522-6e89-484c-81ce-885208584b0a",
   "metadata": {},
   "source": [
    "Some of the commonly used libraries used by Data Scientists include:\n",
    "1. NumPy\n",
    "2. pandas\n",
    "3. Matplotlib\n",
    "4. SciPyborn:"
   ]
  },
  {
   "cell_type": "markdown",
   "id": "b2df1a1f-ccec-4af3-8f38-0a16cf4e5813",
   "metadata": {},
   "source": [
    "| Data Science Tools  |\n",
    "| -------------|\n",
    "| RStudio |\n",
    "| Apache Hadoop |\n",
    "| Git (version control) |"
   ]
  },
  {
   "cell_type": "markdown",
   "id": "abbb53d1-b908-402c-9d76-d584c34e3f0b",
   "metadata": {},
   "source": [
    "### Below are a few examples of evaluating arithmetic expressions in Python."
   ]
  },
  {
   "cell_type": "markdown",
   "id": "edaf4dcb-0847-4aab-b6fe-87791f65dbae",
   "metadata": {},
   "source": [
    "This a simple arithmetic expression to mutiply then add integers."
   ]
  },
  {
   "cell_type": "code",
   "execution_count": 10,
   "id": "5859f7f5-9e9d-438f-8734-1e995a6cca34",
   "metadata": {},
   "outputs": [
    {
     "name": "stdout",
     "output_type": "stream",
     "text": [
      "17\n"
     ]
    }
   ],
   "source": [
    "print((3*4)+5)"
   ]
  },
  {
   "cell_type": "markdown",
   "id": "0dabb0d5-c459-4555-afef-be3c538d63b6",
   "metadata": {},
   "source": [
    "This will convert 200 minutes to hours by diving by 60."
   ]
  },
  {
   "cell_type": "code",
   "execution_count": 13,
   "id": "6fe30e92-71d3-41f7-bf2f-5e9b1fdd155a",
   "metadata": {},
   "outputs": [
    {
     "name": "stdout",
     "output_type": "stream",
     "text": [
      "3.3333333333333335\n"
     ]
    }
   ],
   "source": [
    "print(200/60)"
   ]
  },
  {
   "cell_type": "markdown",
   "id": "491f7021-b52b-4fca-879d-df3af5420346",
   "metadata": {},
   "source": [
    "## Author\n",
    "Shreyan Das"
   ]
  },
  {
   "cell_type": "code",
   "execution_count": null,
   "id": "6798d439-f422-4bf5-86b2-ec056451abe6",
   "metadata": {},
   "outputs": [],
   "source": []
  }
 ],
 "metadata": {
  "kernelspec": {
   "display_name": "Python 3 (ipykernel)",
   "language": "python",
   "name": "python3"
  },
  "language_info": {
   "codemirror_mode": {
    "name": "ipython",
    "version": 3
   },
   "file_extension": ".py",
   "mimetype": "text/x-python",
   "name": "python",
   "nbconvert_exporter": "python",
   "pygments_lexer": "ipython3",
   "version": "3.12.4"
  }
 },
 "nbformat": 4,
 "nbformat_minor": 5
}
